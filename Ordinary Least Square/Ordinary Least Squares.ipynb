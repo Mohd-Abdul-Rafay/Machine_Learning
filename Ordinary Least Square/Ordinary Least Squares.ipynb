{
 "cells": [
  {
   "cell_type": "code",
   "execution_count": 1,
   "id": "2031dff9-c95f-4fb5-9731-41313d93ffe6",
   "metadata": {},
   "outputs": [],
   "source": [
    "# Loading the libraries and the dataset\n",
    "from sklearn.datasets import load_diabetes\n",
    "import numpy as np\n",
    "import pandas as pd"
   ]
  },
  {
   "cell_type": "code",
   "execution_count": 2,
   "id": "d935a04b-c998-456c-b3b3-a2577576f1f5",
   "metadata": {},
   "outputs": [],
   "source": [
    "diabetes = load_diabetes()"
   ]
  },
  {
   "cell_type": "code",
   "execution_count": 3,
   "id": "8c80f423-dd16-4f9e-8a57-abbce9534794",
   "metadata": {},
   "outputs": [
    {
     "data": {
      "text/plain": [
       "['DESCR',\n",
       " 'data',\n",
       " 'data_filename',\n",
       " 'data_module',\n",
       " 'feature_names',\n",
       " 'frame',\n",
       " 'target',\n",
       " 'target_filename']"
      ]
     },
     "execution_count": 3,
     "metadata": {},
     "output_type": "execute_result"
    }
   ],
   "source": [
    "dir(diabetes)"
   ]
  },
  {
   "cell_type": "code",
   "execution_count": 4,
   "id": "acdc665e-a5eb-4f3b-baef-e6091c6b70c5",
   "metadata": {},
   "outputs": [
    {
     "data": {
      "text/plain": [
       "(442, 10)"
      ]
     },
     "execution_count": 4,
     "metadata": {},
     "output_type": "execute_result"
    }
   ],
   "source": [
    "diabetes.data.shape"
   ]
  },
  {
   "cell_type": "code",
   "execution_count": 5,
   "id": "f776e3f0-b9d1-4217-82d3-fc1c1a9e64dd",
   "metadata": {},
   "outputs": [
    {
     "data": {
      "text/plain": [
       "['age', 'sex', 'bmi', 'bp', 's1', 's2', 's3', 's4', 's5', 's6']"
      ]
     },
     "execution_count": 5,
     "metadata": {},
     "output_type": "execute_result"
    }
   ],
   "source": [
    "diabetes.feature_names"
   ]
  },
  {
   "cell_type": "code",
   "execution_count": 6,
   "id": "3b2882e5-7c0e-48de-a96d-b8e3cba712b8",
   "metadata": {},
   "outputs": [
    {
     "data": {
      "text/plain": [
       "(442,)"
      ]
     },
     "execution_count": 6,
     "metadata": {},
     "output_type": "execute_result"
    }
   ],
   "source": [
    "diabetes.target.shape"
   ]
  },
  {
   "cell_type": "code",
   "execution_count": 7,
   "id": "6231b5dc-37b5-4f41-9a50-9d70ba1b1820",
   "metadata": {},
   "outputs": [
    {
     "data": {
      "text/plain": [
       "array([ 0.03807591, -0.00188202,  0.08529891, -0.08906294,  0.00538306,\n",
       "       -0.09269548, -0.04547248,  0.06350368,  0.04170844, -0.07090025,\n",
       "       -0.09632802,  0.02717829,  0.01628068,  0.00538306,  0.04534098,\n",
       "       -0.05273755, -0.00551455,  0.07076875, -0.0382074 , -0.02730979,\n",
       "       -0.04910502, -0.0854304 , -0.0854304 ,  0.04534098, -0.06363517,\n",
       "       -0.06726771, -0.10722563, -0.02367725,  0.05260606,  0.06713621,\n",
       "       -0.06000263, -0.02367725,  0.03444337,  0.03081083,  0.01628068,\n",
       "        0.04897352,  0.01264814, -0.00914709, -0.00188202, -0.00188202,\n",
       "        0.00538306, -0.09996055, -0.06000263,  0.01991321,  0.04534098,\n",
       "        0.02717829, -0.05637009, -0.07816532,  0.06713621, -0.04183994,\n",
       "        0.03444337,  0.05987114, -0.05273755, -0.00914709, -0.04910502,\n",
       "       -0.04183994, -0.04183994, -0.02730979,  0.04170844,  0.06350368,\n",
       "       -0.07090025, -0.04183994, -0.02730979, -0.03457486,  0.06713621,\n",
       "       -0.04547248, -0.00914709,  0.04170844,  0.03807591,  0.01628068,\n",
       "       -0.00188202, -0.00188202,  0.06350368,  0.01264814,  0.01264814,\n",
       "       -0.00914709, -0.03094232, -0.09632802,  0.00538306, -0.10359309,\n",
       "        0.07076875,  0.01264814, -0.01641217, -0.0382074 ,  0.00175052,\n",
       "        0.04534098, -0.07090025,  0.04534098, -0.05273755, -0.04547248,\n",
       "        0.01264814,  0.04534098, -0.02004471, -0.04910502, -0.07816532,\n",
       "       -0.07090025,  0.0562386 , -0.02730979,  0.00175052, -0.00188202,\n",
       "        0.01628068,  0.01628068, -0.09269548,  0.05987114, -0.02730979,\n",
       "        0.02354575, -0.09632802,  0.02717829,  0.01991321,  0.03807591,\n",
       "        0.04170844,  0.01991321, -0.0854304 ,  0.01991321,  0.02354575,\n",
       "       -0.03094232,  0.04897352,  0.05987114, -0.05637009,  0.01628068,\n",
       "       -0.04910502,  0.06350368,  0.04897352,  0.00538306, -0.00551455,\n",
       "       -0.00551455, -0.08906294,  0.03444337, -0.05273755,  0.0090156 ,\n",
       "       -0.06363517, -0.09632802,  0.01628068, -0.04183994, -0.07453279,\n",
       "       -0.00551455, -0.09269548,  0.00538306,  0.03444337,  0.02354575,\n",
       "        0.04170844, -0.02730979,  0.04170844, -0.03094232,  0.03081083,\n",
       "       -0.04183994, -0.03094232, -0.05637009, -0.06000263, -0.04910502,\n",
       "        0.02354575,  0.00175052, -0.03457486,  0.04170844,  0.06713621,\n",
       "       -0.02730979, -0.01641217, -0.00188202, -0.01277963, -0.00551455,\n",
       "       -0.00914709, -0.04547248, -0.05273755,  0.01628068,  0.04534098,\n",
       "       -0.04183994, -0.05637009,  0.07076875,  0.00175052, -0.00188202,\n",
       "        0.02354575, -0.02004471,  0.04170844, -0.06363517,  0.01628068,\n",
       "        0.06713621,  0.04534098,  0.04897352,  0.04170844, -0.02367725,\n",
       "       -0.0382074 ,  0.04897352,  0.04534098,  0.04534098,  0.01628068,\n",
       "       -0.07453279, -0.08179786, -0.06726771,  0.00538306, -0.00188202,\n",
       "        0.0090156 , -0.00551455,  0.0562386 ,  0.0090156 , -0.06726771,\n",
       "        0.02717829, -0.02367725,  0.04897352, -0.05273755,  0.04170844,\n",
       "        0.0562386 , -0.03457486,  0.08166637, -0.00188202,  0.11072668,\n",
       "       -0.03094232,  0.00175052,  0.0090156 ,  0.03081083,  0.03807591,\n",
       "        0.0090156 ,  0.09256398,  0.06713621,  0.00175052,  0.03081083,\n",
       "        0.02717829,  0.01264814,  0.07440129, -0.04183994, -0.08906294,\n",
       "        0.02354575, -0.04547248, -0.02367725, -0.09996055, -0.02730979,\n",
       "        0.03081083, -0.10359309,  0.06713621, -0.05273755, -0.02730979,\n",
       "       -0.0382074 ,  0.0090156 ,  0.01264814,  0.06713621,  0.04534098,\n",
       "        0.06713621,  0.02717829,  0.0562386 ,  0.03444337,  0.02354575,\n",
       "        0.04897352,  0.03081083, -0.10359309,  0.01628068, -0.06000263,\n",
       "       -0.02730979,  0.04170844, -0.08179786, -0.04183994, -0.01277963,\n",
       "        0.06713621, -0.05273755,  0.00538306,  0.08166637,  0.03081083,\n",
       "        0.00175052, -0.04910502, -0.02730979,  0.07803383,  0.01264814,\n",
       "        0.04170844,  0.04897352, -0.01641217, -0.07453279,  0.03444337,\n",
       "       -0.03457486, -0.05273755,  0.05987114,  0.06350368,  0.0090156 ,\n",
       "        0.00538306,  0.03807591,  0.01264814,  0.07440129,  0.01628068,\n",
       "       -0.00551455,  0.01264814, -0.03457486,  0.06713621,  0.03807591,\n",
       "        0.0090156 , -0.09269548,  0.07076875, -0.01641217,  0.04170844,\n",
       "        0.01264814, -0.0382074 ,  0.04534098,  0.07076875, -0.07453279,\n",
       "        0.05987114,  0.07440129,  0.0090156 , -0.07090025,  0.02354575,\n",
       "       -0.05273755,  0.06713621,  0.00175052,  0.02354575,  0.03807591,\n",
       "        0.01628068, -0.00188202,  0.01264814,  0.07440129,  0.04170844,\n",
       "       -0.00914709,  0.0090156 ,  0.06713621,  0.00175052, -0.00914709,\n",
       "       -0.00551455,  0.09619652, -0.07453279,  0.05987114, -0.02367725,\n",
       "        0.0090156 ,  0.01628068,  0.01991321,  0.08893144,  0.01991321,\n",
       "       -0.02367725,  0.09619652,  0.02354575,  0.07076875,  0.03081083,\n",
       "       -0.00188202,  0.04534098,  0.07440129, -0.0382074 , -0.01277963,\n",
       "        0.0090156 ,  0.08166637,  0.03081083,  0.02717829, -0.06000263,\n",
       "        0.00538306, -0.02004471,  0.01991321, -0.06363517,  0.02717829,\n",
       "       -0.01641217,  0.03081083,  0.0562386 , -0.02004471, -0.10722563,\n",
       "        0.08166637,  0.00538306,  0.03807591,  0.03081083,  0.00175052,\n",
       "       -0.02730979, -0.0854304 ,  0.01264814, -0.05273755, -0.02367725,\n",
       "       -0.07453279, -0.00551455, -0.06000263, -0.02004471,  0.03807591,\n",
       "        0.01628068,  0.04170844,  0.01991321, -0.04910502,  0.00175052,\n",
       "        0.03444337, -0.04547248, -0.00914709, -0.01641217, -0.00914709,\n",
       "        0.01991321,  0.05260606, -0.02730979, -0.07453279, -0.10722563,\n",
       "        0.04534098, -0.00188202,  0.01991321,  0.01628068, -0.00188202,\n",
       "        0.01628068, -0.07090025,  0.04897352,  0.00538306,  0.03444337,\n",
       "        0.02354575,  0.01991321, -0.04547248,  0.05260606, -0.00551455,\n",
       "        0.0090156 , -0.02367725, -0.04183994, -0.07453279,  0.03444337,\n",
       "       -0.06000263, -0.0854304 ,  0.05260606,  0.01264814,  0.05987114,\n",
       "       -0.02367725,  0.01628068,  0.11072668, -0.02004471, -0.01641217,\n",
       "        0.04897352, -0.05637009,  0.02717829,  0.06350368, -0.05273755,\n",
       "       -0.00914709,  0.00538306,  0.07440129, -0.05273755,  0.08166637,\n",
       "       -0.00551455, -0.02730979, -0.05273755,  0.0090156 , -0.02004471,\n",
       "        0.02354575,  0.03807591, -0.07816532,  0.0090156 ,  0.00175052,\n",
       "       -0.07816532,  0.03081083, -0.03457486,  0.04897352, -0.04183994,\n",
       "       -0.00914709,  0.07076875,  0.0090156 , -0.02730979,  0.01628068,\n",
       "       -0.01277963, -0.05637009,  0.04170844, -0.00551455,  0.04170844,\n",
       "       -0.04547248, -0.04547248])"
      ]
     },
     "execution_count": 7,
     "metadata": {},
     "output_type": "execute_result"
    }
   ],
   "source": [
    "# Extracting the first column from 10 columns as a feature\n",
    "feature = diabetes.data[:,0]\n",
    "feature"
   ]
  },
  {
   "cell_type": "code",
   "execution_count": 8,
   "id": "6f5ef0c5-be79-4fa1-80ec-52018f02a335",
   "metadata": {},
   "outputs": [
    {
     "name": "stdout",
     "output_type": "stream",
     "text": [
      "First forty features for training: \n",
      " [ 0.03807591 -0.00188202  0.08529891 -0.08906294  0.00538306 -0.09269548\n",
      " -0.04547248  0.06350368  0.04170844 -0.07090025 -0.09632802  0.02717829\n",
      "  0.01628068  0.00538306  0.04534098 -0.05273755 -0.00551455  0.07076875\n",
      " -0.0382074  -0.02730979 -0.04910502 -0.0854304  -0.0854304   0.04534098\n",
      " -0.06363517 -0.06726771 -0.10722563 -0.02367725  0.05260606  0.06713621\n",
      " -0.06000263 -0.02367725  0.03444337  0.03081083  0.01628068  0.04897352\n",
      "  0.01264814 -0.00914709 -0.00188202 -0.00188202]\n",
      "Last forty features for testing: \n",
      " [ 0.11072668 -0.02004471 -0.01641217  0.04897352 -0.05637009  0.02717829\n",
      "  0.06350368 -0.05273755 -0.00914709  0.00538306  0.07440129 -0.05273755\n",
      "  0.08166637 -0.00551455 -0.02730979 -0.05273755  0.0090156  -0.02004471\n",
      "  0.02354575  0.03807591 -0.07816532  0.0090156   0.00175052 -0.07816532\n",
      "  0.03081083 -0.03457486  0.04897352 -0.04183994 -0.00914709  0.07076875\n",
      "  0.0090156  -0.02730979  0.01628068 -0.01277963 -0.05637009  0.04170844\n",
      " -0.00551455  0.04170844 -0.04547248 -0.04547248]\n"
     ]
    }
   ],
   "source": [
    "# Splitting the training and testing data as mentioned in the document\n",
    "train_first_feature_40 = feature[0:40]\n",
    "print(\"First forty features for training: \\n\",train_first_feature_40)\n",
    "test_last_feature_40 = feature[-40:]\n",
    "print(\"Last forty features for testing: \\n\",test_last_feature_40)"
   ]
  },
  {
   "cell_type": "code",
   "execution_count": 9,
   "id": "c7bb751d-64d1-4da1-b6f5-fc26c12d1a6f",
   "metadata": {},
   "outputs": [
    {
     "data": {
      "text/html": [
       "<div>\n",
       "<style scoped>\n",
       "    .dataframe tbody tr th:only-of-type {\n",
       "        vertical-align: middle;\n",
       "    }\n",
       "\n",
       "    .dataframe tbody tr th {\n",
       "        vertical-align: top;\n",
       "    }\n",
       "\n",
       "    .dataframe thead th {\n",
       "        text-align: right;\n",
       "    }\n",
       "</style>\n",
       "<table border=\"1\" class=\"dataframe\">\n",
       "  <thead>\n",
       "    <tr style=\"text-align: right;\">\n",
       "      <th></th>\n",
       "      <th>0</th>\n",
       "    </tr>\n",
       "  </thead>\n",
       "  <tbody>\n",
       "    <tr>\n",
       "      <th>0</th>\n",
       "      <td>0.038076</td>\n",
       "    </tr>\n",
       "    <tr>\n",
       "      <th>1</th>\n",
       "      <td>-0.001882</td>\n",
       "    </tr>\n",
       "    <tr>\n",
       "      <th>2</th>\n",
       "      <td>0.085299</td>\n",
       "    </tr>\n",
       "    <tr>\n",
       "      <th>3</th>\n",
       "      <td>-0.089063</td>\n",
       "    </tr>\n",
       "    <tr>\n",
       "      <th>4</th>\n",
       "      <td>0.005383</td>\n",
       "    </tr>\n",
       "  </tbody>\n",
       "</table>\n",
       "</div>"
      ],
      "text/plain": [
       "          0\n",
       "0  0.038076\n",
       "1 -0.001882\n",
       "2  0.085299\n",
       "3 -0.089063\n",
       "4  0.005383"
      ]
     },
     "execution_count": 9,
     "metadata": {},
     "output_type": "execute_result"
    }
   ],
   "source": [
    "train_x = pd.DataFrame(train_first_feature_40)\n",
    "train_x.head()"
   ]
  },
  {
   "cell_type": "code",
   "execution_count": 10,
   "id": "fb5b7813-ba81-4bde-9df3-116d96dd5f3f",
   "metadata": {},
   "outputs": [
    {
     "data": {
      "text/html": [
       "<div>\n",
       "<style scoped>\n",
       "    .dataframe tbody tr th:only-of-type {\n",
       "        vertical-align: middle;\n",
       "    }\n",
       "\n",
       "    .dataframe tbody tr th {\n",
       "        vertical-align: top;\n",
       "    }\n",
       "\n",
       "    .dataframe thead th {\n",
       "        text-align: right;\n",
       "    }\n",
       "</style>\n",
       "<table border=\"1\" class=\"dataframe\">\n",
       "  <thead>\n",
       "    <tr style=\"text-align: right;\">\n",
       "      <th></th>\n",
       "      <th>0</th>\n",
       "    </tr>\n",
       "  </thead>\n",
       "  <tbody>\n",
       "    <tr>\n",
       "      <th>0</th>\n",
       "      <td>0.110727</td>\n",
       "    </tr>\n",
       "    <tr>\n",
       "      <th>1</th>\n",
       "      <td>-0.020045</td>\n",
       "    </tr>\n",
       "    <tr>\n",
       "      <th>2</th>\n",
       "      <td>-0.016412</td>\n",
       "    </tr>\n",
       "    <tr>\n",
       "      <th>3</th>\n",
       "      <td>0.048974</td>\n",
       "    </tr>\n",
       "    <tr>\n",
       "      <th>4</th>\n",
       "      <td>-0.056370</td>\n",
       "    </tr>\n",
       "  </tbody>\n",
       "</table>\n",
       "</div>"
      ],
      "text/plain": [
       "          0\n",
       "0  0.110727\n",
       "1 -0.020045\n",
       "2 -0.016412\n",
       "3  0.048974\n",
       "4 -0.056370"
      ]
     },
     "execution_count": 10,
     "metadata": {},
     "output_type": "execute_result"
    }
   ],
   "source": [
    "test_x = pd.DataFrame(test_last_feature_40)\n",
    "test_x.head()"
   ]
  },
  {
   "cell_type": "code",
   "execution_count": 11,
   "id": "2df274bc-3842-4014-9bc0-5770d86cc273",
   "metadata": {},
   "outputs": [
    {
     "name": "stdout",
     "output_type": "stream",
     "text": [
      "First forty target for training: \n",
      " [151.  75. 141. 206. 135.  97. 138.  63. 110. 310. 101.  69. 179. 185.\n",
      " 118. 171. 166. 144.  97. 168.  68.  49.  68. 245. 184. 202. 137.  85.\n",
      " 131. 283. 129.  59. 341.  87.  65. 102. 265. 276. 252.  90.]\n",
      "Last forty target for testing: \n",
      " [168. 275. 293. 281.  72. 140. 189. 181. 209. 136. 261. 113. 131. 174.\n",
      " 257.  55.  84.  42. 146. 212. 233.  91. 111. 152. 120.  67. 310.  94.\n",
      " 183.  66. 173.  72.  49.  64.  48. 178. 104. 132. 220.  57.]\n"
     ]
    }
   ],
   "source": [
    "train_first_target_40 = diabetes.target[0:40]\n",
    "print(\"First forty target for training: \\n\",train_first_target_40)\n",
    "test_last_target_40 = diabetes.target[-40:]\n",
    "print(\"Last forty target for testing: \\n\",test_last_target_40)"
   ]
  },
  {
   "cell_type": "code",
   "execution_count": 12,
   "id": "68f41252-5a0b-436a-9f7c-fc01468eed62",
   "metadata": {},
   "outputs": [
    {
     "data": {
      "text/html": [
       "<div>\n",
       "<style scoped>\n",
       "    .dataframe tbody tr th:only-of-type {\n",
       "        vertical-align: middle;\n",
       "    }\n",
       "\n",
       "    .dataframe tbody tr th {\n",
       "        vertical-align: top;\n",
       "    }\n",
       "\n",
       "    .dataframe thead th {\n",
       "        text-align: right;\n",
       "    }\n",
       "</style>\n",
       "<table border=\"1\" class=\"dataframe\">\n",
       "  <thead>\n",
       "    <tr style=\"text-align: right;\">\n",
       "      <th></th>\n",
       "      <th>0</th>\n",
       "    </tr>\n",
       "  </thead>\n",
       "  <tbody>\n",
       "    <tr>\n",
       "      <th>0</th>\n",
       "      <td>151.0</td>\n",
       "    </tr>\n",
       "    <tr>\n",
       "      <th>1</th>\n",
       "      <td>75.0</td>\n",
       "    </tr>\n",
       "    <tr>\n",
       "      <th>2</th>\n",
       "      <td>141.0</td>\n",
       "    </tr>\n",
       "    <tr>\n",
       "      <th>3</th>\n",
       "      <td>206.0</td>\n",
       "    </tr>\n",
       "    <tr>\n",
       "      <th>4</th>\n",
       "      <td>135.0</td>\n",
       "    </tr>\n",
       "  </tbody>\n",
       "</table>\n",
       "</div>"
      ],
      "text/plain": [
       "       0\n",
       "0  151.0\n",
       "1   75.0\n",
       "2  141.0\n",
       "3  206.0\n",
       "4  135.0"
      ]
     },
     "execution_count": 12,
     "metadata": {},
     "output_type": "execute_result"
    }
   ],
   "source": [
    "train_y = pd.DataFrame(train_first_target_40)\n",
    "train_y.head()"
   ]
  },
  {
   "cell_type": "code",
   "execution_count": 13,
   "id": "fe502b6c-7155-4c6e-92ad-29032bcfe90f",
   "metadata": {},
   "outputs": [
    {
     "data": {
      "text/html": [
       "<div>\n",
       "<style scoped>\n",
       "    .dataframe tbody tr th:only-of-type {\n",
       "        vertical-align: middle;\n",
       "    }\n",
       "\n",
       "    .dataframe tbody tr th {\n",
       "        vertical-align: top;\n",
       "    }\n",
       "\n",
       "    .dataframe thead th {\n",
       "        text-align: right;\n",
       "    }\n",
       "</style>\n",
       "<table border=\"1\" class=\"dataframe\">\n",
       "  <thead>\n",
       "    <tr style=\"text-align: right;\">\n",
       "      <th></th>\n",
       "      <th>0</th>\n",
       "    </tr>\n",
       "  </thead>\n",
       "  <tbody>\n",
       "    <tr>\n",
       "      <th>0</th>\n",
       "      <td>168.0</td>\n",
       "    </tr>\n",
       "    <tr>\n",
       "      <th>1</th>\n",
       "      <td>275.0</td>\n",
       "    </tr>\n",
       "    <tr>\n",
       "      <th>2</th>\n",
       "      <td>293.0</td>\n",
       "    </tr>\n",
       "    <tr>\n",
       "      <th>3</th>\n",
       "      <td>281.0</td>\n",
       "    </tr>\n",
       "    <tr>\n",
       "      <th>4</th>\n",
       "      <td>72.0</td>\n",
       "    </tr>\n",
       "  </tbody>\n",
       "</table>\n",
       "</div>"
      ],
      "text/plain": [
       "       0\n",
       "0  168.0\n",
       "1  275.0\n",
       "2  293.0\n",
       "3  281.0\n",
       "4   72.0"
      ]
     },
     "execution_count": 13,
     "metadata": {},
     "output_type": "execute_result"
    }
   ],
   "source": [
    "test_y = pd.DataFrame(test_last_target_40)\n",
    "test_y.head()"
   ]
  },
  {
   "cell_type": "code",
   "execution_count": 14,
   "id": "24aa1046-0710-47fc-911b-a6ff827a0ef7",
   "metadata": {},
   "outputs": [
    {
     "data": {
      "image/png": "[encoded data removed]",
      "text/plain": [
       "<Figure size 640x480 with 1 Axes>"
      ]
     },
     "metadata": {},
     "output_type": "display_data"
    }
   ],
   "source": [
    "# Plotting the training data for observati\n",
    "import matplotlib.pyplot as plt\n",
    "plt.scatter(train_x,train_y,color='red',marker='+')\n",
    "plt.xlabel(\"Features\");\n",
    "plt.ylabel(\"Target\");\n",
    "plt.title(\"Scatterplot for the Training dataset\");"
   ]
  },
  {
   "cell_type": "markdown",
   "id": "9cfed49f-833a-47b0-8854-d652cb4f819d",
   "metadata": {},
   "source": [
    "<!DOCTYPE html>\n",
    "<html lang=\"en\">\n",
    "<head>\n",
    "  <meta charset=\"UTF-8\">\n",
    "  <meta name=\"viewport\" content=\"width=device-width, initial-scale=1.0\">\n",
    "  <script src=\"https://polyfill.io/v3/polyfill.min.js?features=es6\"></script>\n",
    "  <script id=\"MathJax-script\" async src=\"https://cdn.jsdelivr.net/npm/mathjax@3/es5/tex-mml-chtml.js\"></script>\n",
    "</head>\n",
    "<body>\n",
    "    <h1 style=\"color: teal;font-size: 60px;font-weight: bold;\">Ordinary Least Square Method</h1>\n",
    "  <h2>How to use Ordinary Least Square for Linear Regression</h2>\n",
    "  <ul style=\"font-size: 16px;\">\n",
    "      <li>We have a linear equation y = m * x + b (Considering here we have only one feature).</li>\n",
    "      <li>For Ordinary Least Squares method the cost function will be \\( \\sum_{i=1}^{n} (y_i - ŷ)^2 \\)</li>\n",
    "      <li>Lets consider the central tendency for the line is mean.</li>\n",
    "      <li>So, we get initial intercept b = \\( \\bar{y} \\) - m *  \\( \\bar{x} \\)</li>\n",
    "      <li>If we solve the equation using the differentiation with respect to m and equating it to 0 because we are finding the minimum, then we will the the slope as \\( m = \\frac{\\sum_{i=1}^{n} (x_i - \\bar{x}) * (y_i - \\bar{y})}{\\sum_{i=1}^{n} (x_i - \\bar{x})^2} \\).</li>\n",
    "      <li>Substitute m value in b. Then, we get the new intercept.</li>\n",
    "      <li>Using the above values we can get the best fit line.</li>\n",
    "  </ul>\n",
    "</body>\n",
    "</html>"
   ]
  },
  {
   "cell_type": "code",
   "execution_count": 15,
   "id": "fe6603c0-74f3-4660-a775-81390372fb34",
   "metadata": {},
   "outputs": [],
   "source": [
    "# funciton to perform Ordinary Least Squares\n",
    "def ordinary_least_square(x,y):\n",
    "    x_mean = np.mean(x)\n",
    "    y_mean = np.mean(y)\n",
    "    numerator = np.sum((x-x_mean) * (y-y_mean))\n",
    "    denominator = np.sum((x-x_mean) ** 2)\n",
    "    m = numerator/denominator\n",
    "\n",
    "    c = y_mean - (m * x_mean)\n",
    "    return m,c\n",
    "\n",
    "# Function for predicting the line\n",
    "def predictions(x_test,slope,intercept):\n",
    "    return (slope * x_test) + intercept\n",
    "\n",
    "slope,intercept = ordinary_least_square(train_first_feature_40,train_first_target_40)\n",
    "test_predicted = predictions(test_last_feature_40,slope,intercept)\n"
   ]
  },
  {
   "cell_type": "code",
   "execution_count": 16,
   "id": "e74177d5-8244-43bb-8435-89c84c734f49",
   "metadata": {},
   "outputs": [
    {
     "name": "stdout",
     "output_type": "stream",
     "text": [
      "{'slope': 142.1482086468717, 'intercept': 149.94060574126516}\n"
     ]
    }
   ],
   "source": [
    "# Printing the Coefficient and the Intercept of the line\n",
    "coefficients = {'slope': slope, 'intercept': intercept}\n",
    "print(coefficients)"
   ]
  },
  {
   "cell_type": "code",
   "execution_count": 17,
   "id": "e6df1a9f-f0d9-4fcb-8cd0-11b4c5bcdfae",
   "metadata": {},
   "outputs": [
    {
     "name": "stdout",
     "output_type": "stream",
     "text": [
      "Mean Squared Error of the line in testing data is:  5547.6208521530625\n"
     ]
    }
   ],
   "source": [
    "# Calculating the mean squared error of testing data\n",
    "mean_squared_error2 = np.mean((test_last_target_40 - test_predicted) ** 2);\n",
    "print(\"Mean Squared Error of the line in testing data is: \",mean_squared_error2)"
   ]
  },
  {
   "cell_type": "code",
   "execution_count": 18,
   "id": "606405a7-b138-4c21-8aad-661f9078c401",
   "metadata": {},
   "outputs": [
    {
     "data": {
      "image/png": "[encoded data removed]",
      "text/plain": [
       "<Figure size 640x480 with 1 Axes>"
      ]
     },
     "metadata": {},
     "output_type": "display_data"
    }
   ],
   "source": [
    "# Plotting the best fit line for the test dataset\n",
    "plt.scatter(test_last_feature_40,test_last_target_40,color='red',marker='+',label='Testing Data Points')\n",
    "plt.plot(test_last_feature_40, test_predicted,color='blue', label='Testing Regression')\n",
    "plt.xlabel(\"Features\");\n",
    "plt.ylabel(\"Target\");\n",
    "plt.title(\"Scatterplot for Ordinary Least Square Regression for testing data\");\n",
    "plt.legend()\n",
    "plt.grid(True)\n",
    "plt.show()"
   ]
  },
  {
   "cell_type": "code",
   "execution_count": 19,
   "id": "38e9cbf3-68a8-4484-b11f-bbeee2fb4163",
   "metadata": {},
   "outputs": [
    {
     "data": {
      "image/png": "[encoded data removed]",
      "text/plain": [
       "<Figure size 640x480 with 1 Axes>"
      ]
     },
     "metadata": {},
     "output_type": "display_data"
    }
   ],
   "source": [
    "# Plotting both training and testing data along with their Regression Lnes\n",
    "train_predicted = predictions(train_first_feature_40,slope,intercept)\n",
    "plt.scatter(train_first_feature_40,train_first_target_40,color='red',marker='*',label='Training Data Points')\n",
    "plt.scatter(test_last_feature_40,test_last_target_40,color='blue',marker='+',label='Testing Data Points')\n",
    "\n",
    "plt.plot(train_first_feature_40, train_predicted,color='red', label='Training Regression',linestyle='-')\n",
    "\n",
    "plt.plot(test_last_feature_40, test_predicted,color='blue', label='Testing Regression', linestyle='--')\n",
    "plt.xlabel(\"Features\");\n",
    "plt.ylabel(\"Target\");\n",
    "plt.title(\"Scatterplot for Ordinary Least Square Regression including both training and testing data\");\n",
    "plt.legend()\n",
    "plt.grid(True)\n",
    "plt.show()"
   ]
  },
  {
   "cell_type": "code",
   "execution_count": null,
   "id": "643a8811-1f8a-4593-ab81-a960fc2d1f8f",
   "metadata": {},
   "outputs": [],
   "source": []
  }
 ],
 "metadata": {
  "kernelspec": {
   "display_name": "Python 3 (ipykernel)",
   "language": "python",
   "name": "python3"
  },
  "language_info": {
   "codemirror_mode": {
    "name": "ipython",
    "version": 3
   },
   "file_extension": ".py",
   "mimetype": "text/x-python",
   "name": "python",
   "nbconvert_exporter": "python",
   "pygments_lexer": "ipython3",
   "version": "3.8.19"
  }
 },
 "nbformat": 4,
 "nbformat_minor": 5
}
