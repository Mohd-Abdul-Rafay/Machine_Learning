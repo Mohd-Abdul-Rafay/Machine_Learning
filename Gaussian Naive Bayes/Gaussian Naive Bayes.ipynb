{
 "cells": [
  {
   "cell_type": "markdown",
   "id": "c837a664-dfa4-4230-970d-4ff696f856c4",
   "metadata": {},
   "source": [
    "<span style=\"font-size: 36px;color: teal; font-family: TimesNewRoman;\">Importing necessary libraries and the dataset<span>"
   ]
  },
  {
   "cell_type": "code",
   "execution_count": 1,
   "id": "574885f8-3593-4e41-b9d4-5163e9b93b96",
   "metadata": {},
   "outputs": [],
   "source": [
    "import numpy as np\n",
    "import pandas as pd\n",
    "import matplotlib.pyplot as plt\n",
    "import seaborn as sns\n",
    "from sklearn.datasets import load_digits\n",
    "from sklearn.model_selection import train_test_split\n",
    "from scipy.stats import norm\n",
    "from sklearn import metrics\n",
    "from sklearn.metrics import classification_report\n",
    "digits = load_digits()"
   ]
  },
  {
   "cell_type": "code",
   "execution_count": 2,
   "id": "7060b80d-0f4d-4aa7-a8e9-e9868528e477",
   "metadata": {},
   "outputs": [
    {
     "data": {
      "text/plain": [
       "['DESCR', 'data', 'feature_names', 'frame', 'images', 'target', 'target_names']"
      ]
     },
     "execution_count": 2,
     "metadata": {},
     "output_type": "execute_result"
    }
   ],
   "source": [
    "dir(digits)"
   ]
  },
  {
   "cell_type": "code",
   "execution_count": 3,
   "id": "6b7ba2dd-28dc-4346-9d6f-c099ded0218b",
   "metadata": {},
   "outputs": [
    {
     "data": {
      "text/plain": [
       "(1797,)"
      ]
     },
     "execution_count": 3,
     "metadata": {},
     "output_type": "execute_result"
    }
   ],
   "source": [
    "digits.target.shape"
   ]
  },
  {
   "cell_type": "code",
   "execution_count": 4,
   "id": "7b15f15b-4fc0-4327-9ecc-07ebb3d20433",
   "metadata": {},
   "outputs": [
    {
     "data": {
      "text/plain": [
       "array([0, 1, 2, ..., 8, 9, 8])"
      ]
     },
     "execution_count": 4,
     "metadata": {},
     "output_type": "execute_result"
    }
   ],
   "source": [
    "digits.target"
   ]
  },
  {
   "cell_type": "code",
   "execution_count": 5,
   "id": "70498970-1459-4d10-b150-44abc9e54a6f",
   "metadata": {},
   "outputs": [
    {
     "data": {
      "text/plain": [
       "(10,)"
      ]
     },
     "execution_count": 5,
     "metadata": {},
     "output_type": "execute_result"
    }
   ],
   "source": [
    "digits.target_names.shape"
   ]
  },
  {
   "cell_type": "code",
   "execution_count": 6,
   "id": "2c7ab9d2-3064-4874-bd13-0aa58e8b8d85",
   "metadata": {},
   "outputs": [
    {
     "data": {
      "text/plain": [
       "array([0, 1, 2, 3, 4, 5, 6, 7, 8, 9])"
      ]
     },
     "execution_count": 6,
     "metadata": {},
     "output_type": "execute_result"
    }
   ],
   "source": [
    "digits.target_names"
   ]
  },
  {
   "cell_type": "code",
   "execution_count": 7,
   "id": "07009eff-3f5d-45e8-99c9-b79571e80cd4",
   "metadata": {},
   "outputs": [
    {
     "data": {
      "text/plain": [
       "(1797, 64)"
      ]
     },
     "execution_count": 7,
     "metadata": {},
     "output_type": "execute_result"
    }
   ],
   "source": [
    "digits.data.shape"
   ]
  },
  {
   "cell_type": "code",
   "execution_count": 8,
   "id": "a736a80e-4fb3-47d8-a762-1c4271fe51ce",
   "metadata": {},
   "outputs": [
    {
     "data": {
      "text/plain": [
       "(1797, 8, 8)"
      ]
     },
     "execution_count": 8,
     "metadata": {},
     "output_type": "execute_result"
    }
   ],
   "source": [
    "digits.images.shape"
   ]
  },
  {
   "cell_type": "markdown",
   "id": "7cb59485-aa6c-447b-a37e-51aa4ea625ce",
   "metadata": {},
   "source": [
    "<span style=\"font-size: 60px;color: teal; font-family: TimesNewRoman;\">Gaussian Naive Bayes for Classification<span>"
   ]
  },
  {
   "cell_type": "code",
   "execution_count": 26,
   "id": "9d1bd7b9-2425-4717-a515-11d38cdbdded",
   "metadata": {},
   "outputs": [],
   "source": [
    "# Converting the dataframe into the respective numpy arrays\n",
    "X_train = X_train.to_numpy()\n",
    "X_test = X_test.to_numpy()\n",
    "y_train = y_train.to_numpy()"
   ]
  },
  {
   "cell_type": "markdown",
   "id": "e01b8e21-1bf3-4275-90f0-ee2a3631005f",
   "metadata": {},
   "source": [
    "<span> <li><span style=\"font-size: 20px;color:teal; font-family: TimesNewRoman;\">Calculating the prior probability P(C)<li><span style=\"font-size: 20px;color:teal; font-family: TimesNewRoman;\">Calculating the class means and variances <li><span style=\"font-size: 20px;color:teal; font-family: TimesNewRoman;\">Handling zero variances as smoothing to reduce inconsistancies<span><li><span style=\"font-size: 20px;color:teal; font-family: TimesNewRoman;\">Calculating and predicting the posterior probability<span>"
   ]
  },
  {
   "cell_type": "code",
   "execution_count": 27,
   "id": "0dbff2ba-4f6c-433e-a410-6ca76e3bf2e6",
   "metadata": {},
   "outputs": [],
   "source": [
    "# Calculate class priors\n",
    "class_priors = np.bincount(y_train) / len(y_train)\n",
    "\n",
    "# Calculate class means and variances\n",
    "class_means = np.array([np.mean(X_train[y_train == c], axis=0) for c in range(10)])\n",
    "class_variances = np.array([np.var(X_train[y_train == c], axis=0) for c in range(10)])\n",
    "\n",
    "# Handle zero variances\n",
    "class_variances[class_variances == 0] = 1e-9  # Set small non-zero value for zero variances\n",
    "\n",
    "# Calculate log likelihoods\n",
    "log_likelihoods = np.array([norm.logpdf(X_test, loc=class_means[c], scale=np.sqrt(class_variances[c])) for c in range(10)])\n",
    "\n",
    "# Calculate log posterior probabilities\n",
    "log_posterior_probs = log_likelihoods.sum(axis=2).T + np.log(class_priors)\n",
    "\n",
    "# Make predictions\n",
    "predictions = np.argmax(log_posterior_probs, axis=1)"
   ]
  },
  {
   "cell_type": "markdown",
   "id": "2fb12bd1-6a94-4ba9-a7bc-3004527f464f",
   "metadata": {},
   "source": [
    "<span style=\"font-size: 28px;color:teal; font-family: TimesNewRoman;\">Confusion Matrix and Classification Report for 50% of training data and 50% of testing data<span>"
   ]
  },
  {
   "cell_type": "code",
   "execution_count": 28,
   "id": "168fae2b-ea95-4297-84c0-71ffc429984c",
   "metadata": {},
   "outputs": [
    {
     "name": "stdout",
     "output_type": "stream",
     "text": [
      "Confusion matrix:\n",
      "[[84  0  0  0  0  2  0  0  1  1]\n",
      " [ 0 65  2  0  0  0  0  5 13  6]\n",
      " [ 0  8 70  0  0  1  2  0  5  0]\n",
      " [ 0  2  2 71  0  2  0  2 10  2]\n",
      " [ 3  0  0  0 58  0  1 28  1  1]\n",
      " [ 0  2  0  4  0 72  1  5  2  5]\n",
      " [ 0  1  0  0  0  0 90  0  0  0]\n",
      " [ 0  0  2  0  0 13  0 72  2  0]\n",
      " [ 0  2  5  0  0  8  0  5 67  1]\n",
      " [ 1  1  0 10  0  4  1  6 13 56]]\n"
     ]
    },
    {
     "data": {
      "image/png": "[encoded data removed]",
      "text/plain": [
       "<Figure size 640x480 with 2 Axes>"
      ]
     },
     "metadata": {},
     "output_type": "display_data"
    }
   ],
   "source": [
    "disp = metrics.ConfusionMatrixDisplay.from_predictions(y_test, predictions)\n",
    "disp.figure_.suptitle(\"Confusion Matrix\")\n",
    "print(f\"Confusion matrix:\\n{disp.confusion_matrix}\")\n",
    "\n",
    "plt.show()"
   ]
  },
  {
   "cell_type": "code",
   "execution_count": 29,
   "id": "f8fef52d-eb53-41c8-b668-479fb681653e",
   "metadata": {},
   "outputs": [
    {
     "name": "stdout",
     "output_type": "stream",
     "text": [
      "              precision    recall  f1-score   support\n",
      "\n",
      "           0       0.95      0.95      0.95        88\n",
      "           1       0.80      0.71      0.76        91\n",
      "           2       0.86      0.81      0.84        86\n",
      "           3       0.84      0.78      0.81        91\n",
      "           4       1.00      0.63      0.77        92\n",
      "           5       0.71      0.79      0.75        91\n",
      "           6       0.95      0.99      0.97        91\n",
      "           7       0.59      0.81      0.68        89\n",
      "           8       0.59      0.76      0.66        88\n",
      "           9       0.78      0.61      0.68        92\n",
      "\n",
      "    accuracy                           0.78       899\n",
      "   macro avg       0.81      0.79      0.79       899\n",
      "weighted avg       0.81      0.78      0.79       899\n",
      "\n"
     ]
    }
   ],
   "source": [
    "from sklearn.metrics import classification_report\n",
    "report = classification_report(y_test,predictions)\n",
    "print(report)"
   ]
  },
  {
   "cell_type": "code",
   "execution_count": null,
   "id": "cd896480-92ec-4d4b-a0b8-0585d6d1425e",
   "metadata": {},
   "outputs": [],
   "source": []
  }
 ],
 "metadata": {
  "kernelspec": {
   "display_name": "Python 3 (ipykernel)",
   "language": "python",
   "name": "python3"
  },
  "language_info": {
   "codemirror_mode": {
    "name": "ipython",
    "version": 3
   },
   "file_extension": ".py",
   "mimetype": "text/x-python",
   "name": "python",
   "nbconvert_exporter": "python",
   "pygments_lexer": "ipython3",
   "version": "3.8.19"
  }
 },
 "nbformat": 4,
 "nbformat_minor": 5
}
